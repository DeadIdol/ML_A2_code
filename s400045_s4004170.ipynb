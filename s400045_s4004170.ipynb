{
 "cells": [
  {
   "cell_type": "markdown",
   "id": "f6cf83a8-aa94-4e1b-83d9-ce281d764b4a",
   "metadata": {
    "scrolled": true
   },
   "source": [
    "---\n",
    "# <div align=\"center\"><font color='green'> COSC 2673/2793 |  Machine Learning | Assignment 2 </font></div>\n",
    "## <div align=\"center\"> <font color='red'> Student Names: Rohan Crawley, Eros Vincenzo Furina </font></div>\n",
    "## <div align=\"center\"> <font color='red'> Student numbers: s400045, s4004170 </font></div>\n",
    "---"
   ]
  },
  {
   "cell_type": "markdown",
   "id": "72b6d8b8-557c-4329-9b78-73db3d44482b",
   "metadata": {},
   "source": [
    "# Introduction\n",
    "## Introduction\n",
    "We have chosen to tackle project 1 (Classify Images of Colon Cancer) for our assignment."
   ]
  },
  {
   "cell_type": "markdown",
   "id": "94c9bebf-7147-42c7-822a-35b3d3b8da33",
   "metadata": {},
   "source": [
    "# Load Data\n"
   ]
  },
  {
   "cell_type": "code",
   "execution_count": null,
   "id": "ab6c1523-0e9e-43fa-a2b7-aaffbe26b27e",
   "metadata": {},
   "outputs": [],
   "source": [
    "import zipfile\n",
    "import os\n",
    "import numpy as np\n",
    "from sklearn.model_selection import train_test_split\n",
    "import pandas as pd\n",
    "\n",
    "if not os.path.exists('data_labels_extraData.csv'):\n",
    "    with zipfile.ZipFile('./Image_classification_data.zip', 'r') as zip_ref:\n",
    "        zip_ref.extractall('./')\n",
    "    print('Data extracted successfully')\n",
    "else:\n",
    "    print('Data previously extracted')\n",
    "\n",
    "main_data = pd.read_csv('./data_labels_mainData.csv')\n",
    "extra_data = pd.read_csv('./data_labels_extraData.csv')\n",
    "print(\"Main data : {}, Extra Data: {}\".format(main_data.shape, extra_data.shape))"
   ]
  },
  {
   "cell_type": "markdown",
   "id": "be2cb5f8-ac31-4a17-8245-cfedaf375c5d",
   "metadata": {},
   "source": [
    "# Cancerous Cell Model"
   ]
  },
  {
   "cell_type": "markdown",
   "id": "d4df3675-326d-4be2-a290-a84aef7045e0",
   "metadata": {},
   "source": [
    "## Prepare Data and Split "
   ]
  },
  {
   "cell_type": "code",
   "execution_count": null,
   "id": "b6bd568c-81e9-48df-9c5b-95204e84d6a5",
   "metadata": {},
   "outputs": [],
   "source": [
    "# As there is an isCancerous column for both datasets\n",
    "# We will join them for this model\n",
    "data = pd.concat([extra_data, main_data], axis=0, ignore_index=True) # concatenating along rows\n",
    "data = data.drop(columns=['cellTypeName', 'cellType']) # Drop unnecessary columns\n",
    "# Split into train, test and val\n",
    "train_data, test_data = train_test_split(data, test_size=0.2, random_state=42)\n",
    "train_data, val_data = train_test_split(train_data, test_size=0.25, random_state=42)\n",
    "\n",
    "print(\"Train data : {}, Val Data: {}, Test Data: {}\".format(train_data.shape, val_data.shape, test_data.shape))\n",
    "display(train_data)"
   ]
  },
  {
   "cell_type": "markdown",
   "id": "248426ac-e1db-41c5-b3f6-dd522955e724",
   "metadata": {},
   "source": [
    "## EDA"
   ]
  },
  {
   "cell_type": "code",
   "execution_count": null,
   "id": "5c9f7140-eb65-4844-a856-6fdebcf7381f",
   "metadata": {},
   "outputs": [],
   "source": [
    "import matplotlib.pyplot as plt\n",
    "import seaborn as sns\n",
    "\n",
    "# Check for null values\n",
    "print(\"\\nMissing Values:\")\n",
    "print(train_data.isnull().sum())\n",
    "\n",
    "# Check unique labels\n",
    "print(\"\\nUnique Classes:\")\n",
    "print(train_data['isCancerous'].unique())\n",
    "\n",
    "print(\"\\nClass Distribution in Train Data:\")\n",
    "sns.countplot(x='isCancerous', data=train_data)\n",
    "plt.title('Class Distribution in Train Data')\n",
    "plt.show()"
   ]
  },
  {
   "cell_type": "code",
   "execution_count": null,
   "id": "08b2f49c",
   "metadata": {},
   "outputs": [],
   "source": [
    "# import matplotlib.pyplot as plt\n",
    "\n",
    "# plt.figure(figsize=(10, 10))\n",
    "# for images, labels in train_data.take(1):\n",
    "#   for i in range(9):\n",
    "#     ax = plt.subplot(3, 3, i + 1)\n",
    "#     plt.imshow(images[i].numpy().astype(\"uint8\"))\n",
    "#     plt.title(class_names[labels[i]])\n",
    "#     plt.axis(\"off\")"
   ]
  },
  {
   "cell_type": "markdown",
   "id": "abf3a9a2-47da-4ba9-9dcb-3e0291f54af3",
   "metadata": {},
   "source": [
    "## Set Up Model"
   ]
  },
  {
   "cell_type": "code",
   "execution_count": null,
   "id": "25ba31e1-aa8f-4f51-b0a4-7959ec28bc9a",
   "metadata": {},
   "outputs": [],
   "source": [
    "import matplotlib.pyplot as plt\n",
    "import numpy as np\n",
    "import PIL\n",
    "import tensorflow as tf\n",
    "\n",
    "from tensorflow import keras\n",
    "from tensorflow.keras import layers\n",
    "from tensorflow.keras.models import Sequential\n",
    "\n",
    "INPUT_DIM = (27,27,3)\n",
    "OUTPUT_CLASSES = 1\n",
    "\n",
    "model = Sequential([\n",
    "    layers.Input(shape=INPUT_DIM),\n",
    "    layers.Rescaling(1./255),\n",
    "    layers.Conv2D(16, 3, padding='same', activation='relu'),\n",
    "    layers.MaxPooling2D(),\n",
    "    layers.Conv2D(32, 3, padding='same', activation='relu'),\n",
    "    layers.MaxPooling2D(),\n",
    "    layers.Conv2D(64, 3, padding='same', activation='relu'),\n",
    "    layers.MaxPooling2D(),\n",
    "    layers.Flatten(),\n",
    "    layers.Dense(128, activation='relu'),\n",
    "    layers.Dense(OUTPUT_CLASSES)\n",
    "])\n",
    "\n",
    "model.compile(optimizer='adam',\n",
    "              loss=tf.keras.losses.SparseCategoricalCrossentropy(from_logits=True),\n",
    "              metrics=['accuracy'])\n",
    "\n",
    "model.summary()"
   ]
  },
  {
   "cell_type": "markdown",
   "id": "2746d0d4-b63d-48a9-a7af-7130d42c543f",
   "metadata": {},
   "source": [
    "## Train Model"
   ]
  },
  {
   "cell_type": "code",
   "execution_count": null,
   "id": "8222e4a9-368a-4f37-8979-1a1bcaef042c",
   "metadata": {},
   "outputs": [],
   "source": []
  },
  {
   "cell_type": "markdown",
   "id": "64b9e89a-473b-42a8-b9bd-c073c1d25f87",
   "metadata": {},
   "source": [
    "## Plot Results"
   ]
  },
  {
   "cell_type": "markdown",
   "id": "e30a0ad0-32d9-4003-bcac-5d184bc16730",
   "metadata": {},
   "source": [
    "# Cell Type Model"
   ]
  },
  {
   "cell_type": "code",
   "execution_count": null,
   "id": "29eaf430-63d1-47d6-b999-c980a811d23e",
   "metadata": {},
   "outputs": [],
   "source": []
  },
  {
   "cell_type": "markdown",
   "id": "74b9c2a5-41c8-4f79-a902-a8de883bf850",
   "metadata": {},
   "source": [
    "# Independant Evaluation\n",
    "..."
   ]
  },
  {
   "cell_type": "code",
   "execution_count": null,
   "id": "f8f45918-7ef5-4a5c-83ed-36278268993a",
   "metadata": {},
   "outputs": [],
   "source": []
  },
  {
   "cell_type": "markdown",
   "id": "790be9ee-82e3-439d-b22b-7fbf4bb62c45",
   "metadata": {},
   "source": [
    "# Appendix\n",
    "..."
   ]
  },
  {
   "cell_type": "code",
   "execution_count": null,
   "id": "4a695fe5-6315-4dcb-a3b5-77f7360ab1c7",
   "metadata": {},
   "outputs": [],
   "source": []
  }
 ],
 "metadata": {
  "kernelspec": {
   "display_name": "Python [conda env:base] *",
   "language": "python",
   "name": "conda-base-py"
  },
  "language_info": {
   "codemirror_mode": {
    "name": "ipython",
    "version": 3
   },
   "file_extension": ".py",
   "mimetype": "text/x-python",
   "name": "python",
   "nbconvert_exporter": "python",
   "pygments_lexer": "ipython3",
   "version": "3.12.7"
  }
 },
 "nbformat": 4,
 "nbformat_minor": 5
}
