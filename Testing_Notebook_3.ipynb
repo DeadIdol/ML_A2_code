{
 "cells": [
  {
   "cell_type": "code",
   "execution_count": 1,
   "id": "685def93-caeb-4f02-bd3a-70ddac8a62cf",
   "metadata": {},
   "outputs": [
    {
     "name": "stdout",
     "output_type": "stream",
     "text": [
      "Data previously extracted\n",
      "Main data : (9896, 6), Extra Data: (10384, 4)\n"
     ]
    }
   ],
   "source": [
    "import zipfile\n",
    "import os\n",
    "import numpy as np\n",
    "from sklearn.model_selection import train_test_split\n",
    "import pandas as pd\n",
    "\n",
    "if not os.path.exists('data_labels_extraData.csv'):\n",
    "    with zipfile.ZipFile('./Image_classification_data.zip', 'r') as zip_ref:\n",
    "        zip_ref.extractall('./')\n",
    "    print('Data extracted successfully')\n",
    "else:\n",
    "    print('Data previously extracted')\n",
    "\n",
    "main_data = pd.read_csv('./data_labels_mainData.csv')\n",
    "extra_data = pd.read_csv('./data_labels_extraData.csv')\n",
    "print(\"Main data : {}, Extra Data: {}\".format(main_data.shape, extra_data.shape))"
   ]
  },
  {
   "cell_type": "code",
   "execution_count": 8,
   "id": "d13a86c7-9db7-4204-912a-229b30e9c967",
   "metadata": {},
   "outputs": [
    {
     "name": "stdout",
     "output_type": "stream",
     "text": [
      "isCancerous\n",
      "0    5817\n",
      "1    4079\n",
      "Name: count, dtype: int64\n",
      "cellTypeName\n",
      "epithelial      4079\n",
      "inflammatory    2543\n",
      "fibroblast      1888\n",
      "others          1386\n",
      "Name: count, dtype: int64\n",
      "All epithelial are cancerous: True\n",
      "All cancerous are epithelial: True\n"
     ]
    }
   ],
   "source": [
    "cancer_counts = main_data['isCancerous'].value_counts()\n",
    "num_cancerous = cancer_counts.get(1, 0)\n",
    "num_non_cancerous = cancer_counts.get(0, 0)\n",
    "\n",
    "type_counts = main_data['cellTypeName'].value_counts()\n",
    "\n",
    "print(cancer_counts)\n",
    "print(type_counts)\n",
    "\n",
    "all_epithelial_are_cancerous = (main_data.loc[main_data['cellType'] == 2, 'isCancerous'] == 1).all()\n",
    "all_cancerous_are_epithelial = (main_data.loc[main_data['isCancerous'] == 1, 'cellType'] == 2).all()\n",
    "\n",
    "print(\"All epithelial are cancerous:\", all_epithelial_are_cancerous)\n",
    "print(\"All cancerous are epithelial:\", all_cancerous_are_epithelial)\n",
    "\n",
    "\n",
    "\n",
    "# print(\"Total non-cancerous: {}. Total cancerous: {}.\".format(num_non_cancerous, num_cancerous)) \n"
   ]
  }
 ],
 "metadata": {
  "kernelspec": {
   "display_name": "Python [conda env:base] *",
   "language": "python",
   "name": "conda-base-py"
  },
  "language_info": {
   "codemirror_mode": {
    "name": "ipython",
    "version": 3
   },
   "file_extension": ".py",
   "mimetype": "text/x-python",
   "name": "python",
   "nbconvert_exporter": "python",
   "pygments_lexer": "ipython3",
   "version": "3.12.7"
  }
 },
 "nbformat": 4,
 "nbformat_minor": 5
}
